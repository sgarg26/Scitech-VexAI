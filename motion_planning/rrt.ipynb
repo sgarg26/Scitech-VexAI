{
 "cells": [
  {
   "cell_type": "code",
   "execution_count": 1,
   "metadata": {},
   "outputs": [],
   "source": [
    "import numpy as np\n",
    "import matplotlib.pyplot as plt"
   ]
  },
  {
   "cell_type": "code",
   "execution_count": 66,
   "metadata": {},
   "outputs": [],
   "source": [
    "class Node:\n",
    "    def __init__(self, x, y, neighbors=None):\n",
    "        self.x = x\n",
    "        self.y = y\n",
    "        self.neighbors = neighbors\n",
    "\n",
    "    def __str__(self):\n",
    "        return f\"{self.x}, {self.y}, {self.neighbors}\"\n",
    "    \n",
    "    def set_closest_node(self, node_list):\n",
    "        filtered_nodes = [node for node in node_list if node != self]\n",
    "        node_points = np.array([[node.x, node.y] for node in filtered_nodes])\n",
    "        distances = np.linalg.norm(node_points - np.array([self.x, self.y]), axis=1)\n",
    "        closest_index = np.argmin(distances)\n",
    "        self.closest_node = filtered_nodes[closest_index]\n"
   ]
  },
  {
   "cell_type": "code",
   "execution_count": null,
   "metadata": {},
   "outputs": [],
   "source": [
    "def steer(cur_node, nearest_node, step_size=1):\n",
    "    dist = np.linalg.norm([cur_node.x, cur_node.y] - [nearest_node.x, nearest_node.y])\n",
    "    dx = nearest_node.x - cur_node.x\n",
    "    dy = nearest_node.y - cur_node.y\n",
    "    if dist > step_size:\n",
    "        dx *= step_size / dist\n",
    "        dy *= step_size / dist\n",
    "    # new_point = [link.point[0] + dx, link.point[1] + dy]"
   ]
  },
  {
   "cell_type": "code",
   "execution_count": 67,
   "metadata": {},
   "outputs": [],
   "source": [
    "np.random.seed(42)\n",
    "xs = np.random.randint(0, 100, 100)\n",
    "ys = np.random.randint(0, 100, 100)\n"
   ]
  },
  {
   "cell_type": "code",
   "execution_count": 68,
   "metadata": {},
   "outputs": [],
   "source": [
    "node_list = []\n",
    "for x, y in zip(xs, ys):\n",
    "    node = Node(x, y)\n",
    "    node_list.append(node)"
   ]
  },
  {
   "cell_type": "code",
   "execution_count": 69,
   "metadata": {},
   "outputs": [],
   "source": [
    "for node in node_list:\n",
    "    node.set_closest_node(node_list)"
   ]
  },
  {
   "cell_type": "code",
   "execution_count": 70,
   "metadata": {},
   "outputs": [
    {
     "data": {
      "text/plain": [
       "<matplotlib.collections.PathCollection at 0x11131cf90>"
      ]
     },
     "execution_count": 70,
     "metadata": {},
     "output_type": "execute_result"
    },
    {
     "data": {
      "image/png": "[encoded data removed]",
      "text/plain": [
       "<Figure size 640x480 with 1 Axes>"
      ]
     },
     "metadata": {},
     "output_type": "display_data"
    }
   ],
   "source": [
    "plt.scatter(xs, ys)"
   ]
  }
 ],
 "metadata": {
  "kernelspec": {
   "display_name": ".venv",
   "language": "python",
   "name": "python3"
  },
  "language_info": {
   "codemirror_mode": {
    "name": "ipython",
    "version": 3
   },
   "file_extension": ".py",
   "mimetype": "text/x-python",
   "name": "python",
   "nbconvert_exporter": "python",
   "pygments_lexer": "ipython3",
   "version": "3.11.10"
  }
 },
 "nbformat": 4,
 "nbformat_minor": 2
}
